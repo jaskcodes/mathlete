{
  "cells": [
    {
      "cell_type": "code",
      "execution_count": 1,
      "metadata": {
        "colab": {
          "base_uri": "https://localhost:8080/"
        },
        "id": "EaNKjADZagK_",
        "outputId": "d84d4fd7-9d65-441e-d9d2-61310e75c112"
      },
      "outputs": [
        {
          "output_type": "stream",
          "name": "stdout",
          "text": [
            "Collecting langchain\n",
            "  Downloading langchain-0.0.327-py3-none-any.whl (2.0 MB)\n",
            "\u001b[2K     \u001b[90m━━━━━━━━━━━━━━━━━━━━━━━━━━━━━━━━━━━━━━━━\u001b[0m \u001b[32m2.0/2.0 MB\u001b[0m \u001b[31m8.0 MB/s\u001b[0m eta \u001b[36m0:00:00\u001b[0m\n",
            "\u001b[?25hRequirement already satisfied: PyYAML>=5.3 in /usr/local/lib/python3.10/dist-packages (from langchain) (6.0.1)\n",
            "Requirement already satisfied: SQLAlchemy<3,>=1.4 in /usr/local/lib/python3.10/dist-packages (from langchain) (2.0.22)\n",
            "Requirement already satisfied: aiohttp<4.0.0,>=3.8.3 in /usr/local/lib/python3.10/dist-packages (from langchain) (3.8.6)\n",
            "Requirement already satisfied: anyio<4.0 in /usr/local/lib/python3.10/dist-packages (from langchain) (3.7.1)\n",
            "Requirement already satisfied: async-timeout<5.0.0,>=4.0.0 in /usr/local/lib/python3.10/dist-packages (from langchain) (4.0.3)\n",
            "Collecting dataclasses-json<0.7,>=0.5.7 (from langchain)\n",
            "  Downloading dataclasses_json-0.6.1-py3-none-any.whl (27 kB)\n",
            "Collecting jsonpatch<2.0,>=1.33 (from langchain)\n",
            "  Downloading jsonpatch-1.33-py2.py3-none-any.whl (12 kB)\n",
            "Collecting langsmith<0.1.0,>=0.0.52 (from langchain)\n",
            "  Downloading langsmith-0.0.56-py3-none-any.whl (44 kB)\n",
            "\u001b[2K     \u001b[90m━━━━━━━━━━━━━━━━━━━━━━━━━━━━━━━━━━━━━━━━\u001b[0m \u001b[32m44.4/44.4 kB\u001b[0m \u001b[31m4.9 MB/s\u001b[0m eta \u001b[36m0:00:00\u001b[0m\n",
            "\u001b[?25hRequirement already satisfied: numpy<2,>=1 in /usr/local/lib/python3.10/dist-packages (from langchain) (1.23.5)\n",
            "Requirement already satisfied: pydantic<3,>=1 in /usr/local/lib/python3.10/dist-packages (from langchain) (1.10.13)\n",
            "Requirement already satisfied: requests<3,>=2 in /usr/local/lib/python3.10/dist-packages (from langchain) (2.31.0)\n",
            "Requirement already satisfied: tenacity<9.0.0,>=8.1.0 in /usr/local/lib/python3.10/dist-packages (from langchain) (8.2.3)\n",
            "Requirement already satisfied: attrs>=17.3.0 in /usr/local/lib/python3.10/dist-packages (from aiohttp<4.0.0,>=3.8.3->langchain) (23.1.0)\n",
            "Requirement already satisfied: charset-normalizer<4.0,>=2.0 in /usr/local/lib/python3.10/dist-packages (from aiohttp<4.0.0,>=3.8.3->langchain) (3.3.1)\n",
            "Requirement already satisfied: multidict<7.0,>=4.5 in /usr/local/lib/python3.10/dist-packages (from aiohttp<4.0.0,>=3.8.3->langchain) (6.0.4)\n",
            "Requirement already satisfied: yarl<2.0,>=1.0 in /usr/local/lib/python3.10/dist-packages (from aiohttp<4.0.0,>=3.8.3->langchain) (1.9.2)\n",
            "Requirement already satisfied: frozenlist>=1.1.1 in /usr/local/lib/python3.10/dist-packages (from aiohttp<4.0.0,>=3.8.3->langchain) (1.4.0)\n",
            "Requirement already satisfied: aiosignal>=1.1.2 in /usr/local/lib/python3.10/dist-packages (from aiohttp<4.0.0,>=3.8.3->langchain) (1.3.1)\n",
            "Requirement already satisfied: idna>=2.8 in /usr/local/lib/python3.10/dist-packages (from anyio<4.0->langchain) (3.4)\n",
            "Requirement already satisfied: sniffio>=1.1 in /usr/local/lib/python3.10/dist-packages (from anyio<4.0->langchain) (1.3.0)\n",
            "Requirement already satisfied: exceptiongroup in /usr/local/lib/python3.10/dist-packages (from anyio<4.0->langchain) (1.1.3)\n",
            "Collecting marshmallow<4.0.0,>=3.18.0 (from dataclasses-json<0.7,>=0.5.7->langchain)\n",
            "  Downloading marshmallow-3.20.1-py3-none-any.whl (49 kB)\n",
            "\u001b[2K     \u001b[90m━━━━━━━━━━━━━━━━━━━━━━━━━━━━━━━━━━━━━━━━\u001b[0m \u001b[32m49.4/49.4 kB\u001b[0m \u001b[31m5.3 MB/s\u001b[0m eta \u001b[36m0:00:00\u001b[0m\n",
            "\u001b[?25hCollecting typing-inspect<1,>=0.4.0 (from dataclasses-json<0.7,>=0.5.7->langchain)\n",
            "  Downloading typing_inspect-0.9.0-py3-none-any.whl (8.8 kB)\n",
            "Collecting jsonpointer>=1.9 (from jsonpatch<2.0,>=1.33->langchain)\n",
            "  Downloading jsonpointer-2.4-py2.py3-none-any.whl (7.8 kB)\n",
            "Requirement already satisfied: typing-extensions>=4.2.0 in /usr/local/lib/python3.10/dist-packages (from pydantic<3,>=1->langchain) (4.5.0)\n",
            "Requirement already satisfied: urllib3<3,>=1.21.1 in /usr/local/lib/python3.10/dist-packages (from requests<3,>=2->langchain) (2.0.7)\n",
            "Requirement already satisfied: certifi>=2017.4.17 in /usr/local/lib/python3.10/dist-packages (from requests<3,>=2->langchain) (2023.7.22)\n",
            "Requirement already satisfied: greenlet!=0.4.17 in /usr/local/lib/python3.10/dist-packages (from SQLAlchemy<3,>=1.4->langchain) (3.0.0)\n",
            "Requirement already satisfied: packaging>=17.0 in /usr/local/lib/python3.10/dist-packages (from marshmallow<4.0.0,>=3.18.0->dataclasses-json<0.7,>=0.5.7->langchain) (23.2)\n",
            "Collecting mypy-extensions>=0.3.0 (from typing-inspect<1,>=0.4.0->dataclasses-json<0.7,>=0.5.7->langchain)\n",
            "  Downloading mypy_extensions-1.0.0-py3-none-any.whl (4.7 kB)\n",
            "Installing collected packages: mypy-extensions, marshmallow, jsonpointer, typing-inspect, langsmith, jsonpatch, dataclasses-json, langchain\n",
            "Successfully installed dataclasses-json-0.6.1 jsonpatch-1.33 jsonpointer-2.4 langchain-0.0.327 langsmith-0.0.56 marshmallow-3.20.1 mypy-extensions-1.0.0 typing-inspect-0.9.0\n",
            "Collecting openai\n",
            "  Downloading openai-0.28.1-py3-none-any.whl (76 kB)\n",
            "\u001b[2K     \u001b[90m━━━━━━━━━━━━━━━━━━━━━━━━━━━━━━━━━━━━━━━━\u001b[0m \u001b[32m77.0/77.0 kB\u001b[0m \u001b[31m1.9 MB/s\u001b[0m eta \u001b[36m0:00:00\u001b[0m\n",
            "\u001b[?25hRequirement already satisfied: requests>=2.20 in /usr/local/lib/python3.10/dist-packages (from openai) (2.31.0)\n",
            "Requirement already satisfied: tqdm in /usr/local/lib/python3.10/dist-packages (from openai) (4.66.1)\n",
            "Requirement already satisfied: aiohttp in /usr/local/lib/python3.10/dist-packages (from openai) (3.8.6)\n",
            "Requirement already satisfied: charset-normalizer<4,>=2 in /usr/local/lib/python3.10/dist-packages (from requests>=2.20->openai) (3.3.1)\n",
            "Requirement already satisfied: idna<4,>=2.5 in /usr/local/lib/python3.10/dist-packages (from requests>=2.20->openai) (3.4)\n",
            "Requirement already satisfied: urllib3<3,>=1.21.1 in /usr/local/lib/python3.10/dist-packages (from requests>=2.20->openai) (2.0.7)\n",
            "Requirement already satisfied: certifi>=2017.4.17 in /usr/local/lib/python3.10/dist-packages (from requests>=2.20->openai) (2023.7.22)\n",
            "Requirement already satisfied: attrs>=17.3.0 in /usr/local/lib/python3.10/dist-packages (from aiohttp->openai) (23.1.0)\n",
            "Requirement already satisfied: multidict<7.0,>=4.5 in /usr/local/lib/python3.10/dist-packages (from aiohttp->openai) (6.0.4)\n",
            "Requirement already satisfied: async-timeout<5.0,>=4.0.0a3 in /usr/local/lib/python3.10/dist-packages (from aiohttp->openai) (4.0.3)\n",
            "Requirement already satisfied: yarl<2.0,>=1.0 in /usr/local/lib/python3.10/dist-packages (from aiohttp->openai) (1.9.2)\n",
            "Requirement already satisfied: frozenlist>=1.1.1 in /usr/local/lib/python3.10/dist-packages (from aiohttp->openai) (1.4.0)\n",
            "Requirement already satisfied: aiosignal>=1.1.2 in /usr/local/lib/python3.10/dist-packages (from aiohttp->openai) (1.3.1)\n",
            "Installing collected packages: openai\n",
            "\u001b[31mERROR: pip's dependency resolver does not currently take into account all the packages that are installed. This behaviour is the source of the following dependency conflicts.\n",
            "llmx 0.0.15a0 requires cohere, which is not installed.\n",
            "llmx 0.0.15a0 requires tiktoken, which is not installed.\u001b[0m\u001b[31m\n",
            "\u001b[0mSuccessfully installed openai-0.28.1\n"
          ]
        }
      ],
      "source": [
        "!pip install langchain\n",
        "!pip install openai\n"
      ]
    },
    {
      "cell_type": "markdown",
      "metadata": {
        "id": "qqaDET8HfCvj"
      },
      "source": [
        "### Requirements"
      ]
    },
    {
      "cell_type": "code",
      "execution_count": 2,
      "metadata": {
        "id": "s5_0evQXfB4y"
      },
      "outputs": [],
      "source": [
        "\n",
        "from langchain.chat_models import ChatOpenAI\n",
        "from langchain.schema.messages import SystemMessage\n",
        "from langchain.chat_models import ChatOpenAI\n",
        "from langchain.schema import (\n",
        "    AIMessage, # AI Input\n",
        "    HumanMessage, # user input\n",
        "    SystemMessage # sets the tone of the conversation\n",
        ")\n",
        "from langchain.evaluation.qa import QAEvalChain\n",
        "import openai\n",
        "from langchain.llms import OpenAI"
      ]
    },
    {
      "cell_type": "markdown",
      "metadata": {
        "id": "AzvYAdmhcFkS"
      },
      "source": [
        "### Setting up the Chat Model\n",
        "\n"
      ]
    },
    {
      "cell_type": "code",
      "execution_count": 3,
      "metadata": {
        "id": "S89tmvk5aj0I"
      },
      "outputs": [],
      "source": [
        "import os\n",
        "os.environ[\"OPENAI_API_KEY\"] = \"YOUR-OPENAI-API-KEY\""
      ]
    },
    {
      "cell_type": "markdown",
      "metadata": {
        "id": "KvgJ7MfxakJ4"
      },
      "source": [
        "### Few shot prompt\n"
      ]
    },
    {
      "cell_type": "code",
      "execution_count": 6,
      "metadata": {
        "id": "mx2nJsxIai6-"
      },
      "outputs": [],
      "source": [
        "\n",
        "few_shot_examples = [\n",
        "  {\n",
        "    \"question\": \"Hello, can you please help me solve this problem. John has 2 houses. Each house has 3 bedrooms and there are 2 windows in each bedroom. \\\n",
        "    Each house has 1 kitchen with 2 windows. Also, each house has 5 windows that are not in the bedrooms or kitchens. \\\n",
        "    How many windows are there in John's houses?\",\n",
        "    \"answer\":\n",
        "\"\"\"\n",
        "Clues:\n",
        "1. Find the number of bedroom windows, kitchen windows, and other windows separately.\n",
        "2. Add them together to find the total number of windows at each house.\n",
        "3. Find the total number of windows for all the houses.\n",
        "\n",
        "Steps:\n",
        "- Each house has 3 bedrooms with 2 windows each, so that's 3 x 2 = 6 windows per house.\n",
        "- Each house also has 1 kitchen with 2 windows, so that's 2 x 1 = 2 windows per house.\n",
        "- Each house has 5 windows that are not in the bedrooms or kitchens, so that's 5 x 1 = 5 windows per house.\n",
        "- In total, each house has 6 + 2 + 5 = 13 windows.\n",
        "- Since John has 2 houses, he has a total of 2 x 13 = 26 windows.\n",
        "\n",
        "Final Answer: 26\n",
        "\"\"\"\n",
        "  },\n",
        "  {\n",
        "    \"question\": \"Leah had 32 chocolates and her sister had 42. If they ate 35, how many pieces do they have left in total?\",\n",
        "    \"answer\":\n",
        "\"\"\"\n",
        "Clues:\n",
        "1. Start with the total number of chocolates they had.\n",
        "2. Subtract the number of chocolates they ate.\n",
        "\n",
        "Steps:\n",
        "- Originally, Leah had 32 chocolates. Her sister had 42.\n",
        "- So in total they had 32 + 42 = 74.\n",
        "- After eating 35, they had 74 - 35 = 39.\n",
        "\n",
        "Final Answer: 39\n",
        "\"\"\"\n",
        "  },\n",
        "  {\n",
        "    \"question\": \"Solve the system of equations:\\\n",
        "    1. 2x + 3y = 8 \\ 2. x - y = 1\",\n",
        "    \"answer\":\n",
        "\"\"\"\n",
        "Clues:\n",
        "1. Use methods like substitution or elimination.\n",
        "2. Express x in terms of y from one equation.\n",
        "3. Plug in the value of x in the other equation to get the value of y.\n",
        "\n",
        "Steps:\n",
        "- From equation 2, express x as x = 1+y. Substitute this in equation 1. This yields, 2(1 + y) + 3y = 8 which simplifies to 5y = 6, hence y = 1.2\n",
        "- Substituting y = 1.2 in equation 2, we get x = 2.2.\n",
        "\n",
        "Final Answer: x = 2.2, y = 1.2\n",
        "\"\"\"\n",
        "  },\n",
        "  {\n",
        "    \"question\": \"Solve the equation x^2 - 4x + 4 = 0\",\n",
        "    \"answer\":\n",
        "\"\"\"\n",
        "Clues:\n",
        "1. Factorize the quadratic equation or use the quadratic formula.\n",
        "\n",
        "Steps:\n",
        "- This quadratic equation can be factored as (x - 2)(x - 2) = 0.\n",
        "- The solutions are x = 2 (with multiplicity 2).\n",
        "\n",
        "Final Answer: x = 2 (with multiplicity 2)\n",
        "\"\"\"\n",
        "  }\n",
        "]\n",
        "\n",
        "system_message = \"\"\"You are a helpful AI Elementary Math tutor that teaches elementary school kids how to solve math problems.\\\n",
        " If you receive a question, do not give away the answer right away. Give the students clues first and \\\n",
        " then eventually work out the explanation with the answer.\n",
        "\n",
        "Please output in the following format:\n",
        "\n",
        "############# OUTPUT ############\n",
        "Question: \"Question here\"\n",
        "Clues: \"Clues from the question\"\n",
        "Steps: \"Steps to get to the final answer\"\n",
        "Answer: \"Final answer here\"\n",
        "############ OUTPUT #############\n",
        "\n",
        "Some examples of answers corresponding to elementary math questions are:\n",
        "\n",
        "{few_shot_examples}\n",
        "\n",
        "Think step by step\n",
        "\n",
        "Question: {input}\"\"\"\n"
      ]
    },
    {
      "cell_type": "markdown",
      "source": [
        "### Helper functions\n"
      ],
      "metadata": {
        "id": "0j78ZbCpYzXk"
      }
    },
    {
      "cell_type": "code",
      "execution_count": 7,
      "metadata": {
        "id": "HBSQ_VrXpeBa"
      },
      "outputs": [],
      "source": [
        "def generate_prompt(few_shot_examples=few_shot_examples, system_message=system_message):\n",
        "    \"\"\"\n",
        "    Given few shot examples, and a system message to set the tone of the conversation,\n",
        "    generate a prompt for the AI tutor\n",
        "\n",
        "      Args:\n",
        "          few_shot_examples (list, optional): examples using few shot prompting\n",
        "          system_message (str, optional): A system message providing guidance to\n",
        "              the AI math tutor.\n",
        "              Defaults to system_message defined elsewhere.\n",
        "\n",
        "      Returns:\n",
        "          list: A list of messages including the system message and user-generated examples\n",
        "    \"\"\"\n",
        "\n",
        "    messages = [SystemMessage(content=system_message)]\n",
        "    for example in few_shot_examples:\n",
        "        user_message = example[\"question\"]\n",
        "        ai_message = example[\"answer\"]\n",
        "        messages.append(HumanMessage(content=user_message))\n",
        "        messages.append(AIMessage(content=ai_message))\n",
        "    return messages\n",
        "\n",
        "\n",
        "def prompt_response(question, few_shot_examples=few_shot_examples, system_message=system_message):\n",
        "    \"\"\"\n",
        "    Ask a question to the AI tutor\n",
        "\n",
        "        Args:\n",
        "            question (string): An elementary math question\n",
        "            few_shot_examples (list, optional): examples used to train the tutor\n",
        "            system_message (str, optional): System message used to train the tutor\n",
        "\n",
        "        Returns:\n",
        "            AI Tutor's response to the question\n",
        "\n",
        "    \"\"\"\n",
        "    chat = ChatOpenAI(temperature=0)\n",
        "    messages = generate_prompt(few_shot_examples, system_message)\n",
        "    messages.append(HumanMessage(content=question))\n",
        "    return chat(messages).content\n",
        "\n",
        "\n",
        "# Interactive Session\n",
        "def interactive_session():\n",
        "    \"\"\"\n",
        "    Start an interactive session with the tutor\n",
        "    \"\"\"\n",
        "    chat = ChatOpenAI(temperature=0,\n",
        "                    max_tokens=1000)\n",
        "    messages = generate_prompt()\n",
        "    while True:\n",
        "      user_message = input(\"You: \")\n",
        "      messages.append(HumanMessage(content=user_message))\n",
        "      if user_message.lower() == \"quit\":\n",
        "        break\n",
        "      response = chat(messages)\n",
        "      messages.append(response)\n",
        "\n",
        "      print(\"AI:\", response.content)\n",
        "\n",
        "\n",
        "# Evaluate Math Tutor\n",
        "def evaluate_math_tutor(questions_df):\n",
        "    \"\"\"\n",
        "    Function to evaluate the answers generated by the tutor\n",
        "\n",
        "      Args:\n",
        "          questions_df (pandas.DataFrame): DataFrame containing the questions\n",
        "                                          and correct answers. Each row in the\n",
        "                                          DataFrame should represent one\n",
        "                                          question and corresponding answer.\n",
        "\n",
        "      Returns:\n",
        "          list: Returns a list of dictionaries containing the results of the\n",
        "                evaluation. Each dictionary contains the question, answer,\n",
        "                and result of evaluation (e.g. 'correct', 'incorrect').\n",
        "    \"\"\"\n",
        "    predictions = []\n",
        "\n",
        "    for n in range(len(questions_df)):\n",
        "        question = questions_df[n]['question']\n",
        "        answer = prompt_response(question)\n",
        "        predictions.append({'text': answer})\n",
        "    llm = OpenAI(temperature=0)\n",
        "\n",
        "    eval_chain = QAEvalChain.from_llm(llm)\n",
        "    graded_outputs = eval_chain.evaluate(questions_df, predictions, question_key='question',\n",
        "                                         answer_key='answer', prediction_key='text')\n",
        "\n",
        "    return graded_outputs\n",
        "\n",
        "# Analyze results\n",
        "def analyze_results(results):\n",
        "    \"\"\"\n",
        "    Computes and returns the accuracy of AI tutor based on the evaluation results.\n",
        "\n",
        "    Args:\n",
        "        results (list): List of dictionaries with keys 'results' denoting the correctness of the response.\n",
        "\n",
        "    Returns:\n",
        "        str: A string expressing the AI tutor's accuracy as a percentage.\n",
        "    \"\"\"\n",
        "\n",
        "    total, correct, idx=0,0,0\n",
        "    for v in results: # loop to compute accuracy\n",
        "        total+=1; idx+=1\n",
        "        if v['results'].strip()=='CORRECT':\n",
        "            correct+=1\n",
        "\n",
        "    return f'the model prediction accuracy is {correct/total*100} percent'\n"
      ]
    },
    {
      "cell_type": "markdown",
      "metadata": {
        "id": "bmRHP6fHtEX2"
      },
      "source": [
        "### Questions\n"
      ]
    },
    {
      "cell_type": "code",
      "execution_count": 13,
      "metadata": {
        "id": "gI83NKY04yOs"
      },
      "outputs": [],
      "source": [
        "math_questions = [\n",
        "    {\n",
        "        \"question\": \"Simplify: (3x^2 y^3)(2x^3 y^2)\",\n",
        "        \"answer\": \"6x^5 y^5\"\n",
        "    },\n",
        "    {\n",
        "        \"question\": \"What is the value of √(169) + | -8 |?\",\n",
        "        \"answer\": \"21\"\n",
        "    },\n",
        "    {\n",
        "        \"question\": \"If a triangle has angles measuring 30°, 60°, and 90°, what is the length of the hypotenuse if one of the legs is 4 units long?\",\n",
        "        \"answer\": \"8 units\"\n",
        "    },\n",
        "    {\n",
        "        \"question\": \"Solve the equation: 3x + 7 = 2x - 4\",\n",
        "        \"answer\": \"-11\"\n",
        "    },\n",
        "    {\n",
        "        \"question\": \"Find the area of a circle with a radius of 5 units (use π ≈ 3.14).\",\n",
        "        \"answer\": \"78.5 square units\"\n",
        "    },\n",
        "    {\n",
        "        \"question\": \"Simplify: 5!(3!)\",\n",
        "        \"answer\": \"720\"\n",
        "    },\n",
        "    {\n",
        "        \"question\": \"Al fills an ice cream cone to the top edge. The diameter of the ice cream cone is 2 inches and its height is 6 inches. \\\n",
        "        Don fills a bowl (V = 5 cubic inches) with ice cream. Al has how much more ice cream than Don?\",\n",
        "        \"answer\": \"1.28in^3\"\n",
        "    },\n",
        "    {\n",
        "        \"question\": \"If log2(x) + log2(x-3) = 3, what is the value of x?\",\n",
        "        \"answer\": \"4 or -2\"\n",
        "    },\n",
        "    {\n",
        "        \"question\": \"A box contains 12 red, 8 blue, and 6 green balls. What is the probability of drawing a red ball?\",\n",
        "        \"answer\": \"12/26\"\n",
        "    },\n",
        "    {\n",
        "        \"question\": \"Solve for x: 2^(x+1) - 2^x = 16\",\n",
        "        \"answer\": \"4\"\n",
        "    }\n",
        "]"
      ]
    },
    {
      "cell_type": "code",
      "execution_count": 9,
      "metadata": {
        "colab": {
          "base_uri": "https://localhost:8080/"
        },
        "id": "4RA51HBptnMV",
        "outputId": "bb9ea0c0-0f2f-4df4-cebd-f7ccf9d66552"
      },
      "outputs": [
        {
          "output_type": "stream",
          "name": "stdout",
          "text": [
            "Clues:\n",
            "1. Probability is calculated by dividing the number of favorable outcomes by the total number of possible outcomes.\n",
            "2. In this case, the favorable outcome is drawing a red ball, and the total number of possible outcomes is the total number of balls in the box.\n",
            "\n",
            "Steps:\n",
            "- The total number of balls in the box is 12 + 8 + 6 = 26.\n",
            "- The number of favorable outcomes (drawing a red ball) is 12.\n",
            "- Therefore, the probability of drawing a red ball is 12/26.\n",
            "\n",
            "Final Answer: The probability of drawing a red ball is 12/26.\n"
          ]
        }
      ],
      "source": [
        "question = math_questions[-2]['question']\n",
        "answer = prompt_response(question)\n",
        "print(answer)"
      ]
    },
    {
      "cell_type": "markdown",
      "metadata": {
        "id": "zhyiwIPZvKcJ"
      },
      "source": [
        "### Evaluating the Model"
      ]
    },
    {
      "cell_type": "code",
      "execution_count": 14,
      "metadata": {
        "id": "Ddhyh5f5vNDn"
      },
      "outputs": [],
      "source": [
        "results = evaluate_math_tutor(math_questions)"
      ]
    },
    {
      "cell_type": "code",
      "execution_count": 15,
      "metadata": {
        "colab": {
          "base_uri": "https://localhost:8080/"
        },
        "id": "jf74N25JwxoC",
        "outputId": "a61a2329-9504-4d66-f51f-827b350439ed"
      },
      "outputs": [
        {
          "output_type": "execute_result",
          "data": {
            "text/plain": [
              "[{'results': ' CORRECT'},\n",
              " {'results': ' CORRECT'},\n",
              " {'results': ' CORRECT'},\n",
              " {'results': ' CORRECT'},\n",
              " {'results': ' CORRECT'},\n",
              " {'results': ' CORRECT'},\n",
              " {'results': ' INCORRECT'},\n",
              " {'results': ' CORRECT'},\n",
              " {'results': ' CORRECT'},\n",
              " {'results': ' CORRECT'}]"
            ]
          },
          "metadata": {},
          "execution_count": 15
        }
      ],
      "source": [
        "results"
      ]
    },
    {
      "cell_type": "code",
      "execution_count": 16,
      "metadata": {
        "colab": {
          "base_uri": "https://localhost:8080/",
          "height": 35
        },
        "id": "i77DZn5vwzMZ",
        "outputId": "74bba35c-238e-47f2-c5e5-8b590bca250e"
      },
      "outputs": [
        {
          "output_type": "execute_result",
          "data": {
            "text/plain": [
              "'the model prediction accuracy is 90.0 percent'"
            ],
            "application/vnd.google.colaboratory.intrinsic+json": {
              "type": "string"
            }
          },
          "metadata": {},
          "execution_count": 16
        }
      ],
      "source": [
        "analyze_results(results)"
      ]
    },
    {
      "cell_type": "markdown",
      "source": [
        "### Evaluating the incorrect question"
      ],
      "metadata": {
        "id": "hNYiwxW4aUIX"
      }
    },
    {
      "cell_type": "code",
      "source": [
        "question = math_questions[-4]['question']\n",
        "answer = prompt_response(question)\n",
        "print(answer)"
      ],
      "metadata": {
        "colab": {
          "base_uri": "https://localhost:8080/"
        },
        "id": "To2w5dX9aOht",
        "outputId": "95f18ba1-0576-4a55-e5cc-a85038ce96a6"
      },
      "execution_count": 17,
      "outputs": [
        {
          "output_type": "stream",
          "name": "stdout",
          "text": [
            "\n",
            "Clues:\n",
            "1. Find the volume of the ice cream cone.\n",
            "2. Compare the volume of the ice cream cone with the volume of the bowl.\n",
            "\n",
            "Steps:\n",
            "- The volume of a cone can be calculated using the formula V = (1/3) * π * r^2 * h, where r is the radius and h is the height.\n",
            "- The radius of the ice cream cone is half of the diameter, so it is 2/2 = 1 inch.\n",
            "- Plugging in the values, we get V = (1/3) * π * 1^2 * 6 = 2π cubic inches.\n",
            "- Don's bowl has a volume of 5 cubic inches.\n",
            "- Al has 2π - 5 cubic inches more ice cream than Don.\n",
            "\n",
            "Final Answer: Al has 2π - 5 cubic inches more ice cream than Don.\n"
          ]
        }
      ]
    },
    {
      "cell_type": "markdown",
      "source": [
        "**Even though the clues, steps and calculations is correct, the model struggles with getting to the right \"answer\".**"
      ],
      "metadata": {
        "id": "Ny0yoyE3afDG"
      }
    },
    {
      "cell_type": "markdown",
      "metadata": {
        "id": "iWwSnWH9xwol"
      },
      "source": [
        "### Interactive Session\n"
      ]
    },
    {
      "cell_type": "code",
      "execution_count": null,
      "metadata": {
        "colab": {
          "background_save": true,
          "base_uri": "https://localhost:8080/"
        },
        "id": "enUPrTaTx0nD",
        "outputId": "a28dd21e-3472-45ea-dc0e-439e6e420151"
      },
      "outputs": [
        {
          "output_type": "stream",
          "name": "stdout",
          "text": [
            "You: Hi can you help me with math questions?\n",
            "AI: Of course! I'd be happy to help you with your math questions. Please go ahead and ask your question.\n",
            "You: Suppose three days ago was Tuesday. What day of the week will it be 90 days from today?\n",
            "AI: Clues:\n",
            "1. Determine the number of days between the given day and the desired day.\n",
            "2. Divide the number of days by 7 to find the number of weeks.\n",
            "3. Determine the remainder to find the day of the week.\n",
            "\n",
            "Steps:\n",
            "- Three days ago was Tuesday, so we can start counting from Tuesday.\n",
            "- We want to find the day of the week 90 days from today.\n",
            "- Since there are 7 days in a week, we can divide 90 by 7 to find the number of weeks. 90 ÷ 7 = 12 remainder 6.\n",
            "- This means that after 12 weeks, we will have 6 additional days.\n",
            "- Starting from Tuesday, we count 6 days ahead: Wednesday, Thursday, Friday, Saturday, Sunday, and Monday.\n",
            "\n",
            "Final Answer: 90 days from today will be Monday.\n",
            "You: But the correct answer is Monday, you are not counting from the correct day. If three days ago was Tuesday, then you should start counting from Friday\n",
            "AI: Apologies for the mistake. You are correct. If three days ago was Tuesday, then we should start counting from Friday. Let's go through the steps again:\n",
            "\n",
            "Clues:\n",
            "1. Determine the number of days between the given day and the desired day.\n",
            "2. Divide the number of days by 7 to find the number of weeks.\n",
            "3. Determine the remainder to find the day of the week.\n",
            "\n",
            "Steps:\n",
            "- Three days ago was Tuesday, so we start counting from Friday.\n",
            "- We want to find the day of the week 90 days from today.\n",
            "- Since there are 7 days in a week, we can divide 90 by 7 to find the number of weeks. 90 ÷ 7 = 12 remainder 6.\n",
            "- This means that after 12 weeks, we will have 6 additional days.\n",
            "- Starting from Friday, we count 6 days ahead: Saturday, Sunday, Monday, Tuesday, Wednesday, and Thursday.\n",
            "\n",
            "Final Answer: 90 days from today will be Thursday.\n",
            "You: Suppose three days ago was Tuesday. What day of the week will it be 90 days from today?\n",
            "AI: Apologies for the confusion. Let's go through the steps again:\n",
            "\n",
            "Clues:\n",
            "1. Determine the number of days between the given day and the desired day.\n",
            "2. Divide the number of days by 7 to find the number of weeks.\n",
            "3. Determine the remainder to find the day of the week.\n",
            "\n",
            "Steps:\n",
            "- Three days ago was Tuesday, so we start counting from Tuesday.\n",
            "- We want to find the day of the week 90 days from today.\n",
            "- Since there are 7 days in a week, we can divide 90 by 7 to find the number of weeks. 90 ÷ 7 = 12 remainder 6.\n",
            "- This means that after 12 weeks, we will have 6 additional days.\n",
            "- Starting from Tuesday, we count 6 days ahead: Wednesday, Thursday, Friday, Saturday, Sunday, and Monday.\n",
            "\n",
            "Final Answer: 90 days from today will be Monday.\n"
          ]
        }
      ],
      "source": [
        "interactive_session()"
      ]
    },
    {
      "cell_type": "markdown",
      "source": [
        "**We notice that even though the AI Tutor is receptive to feedback, it has no memory so it would forget the calibration it performed after prompting it to the correct answer and hence would give the wrong answer after asking the same question again.**\n",
        "\n"
      ],
      "metadata": {
        "id": "FiMNTozFbVU9"
      }
    },
    {
      "cell_type": "markdown",
      "source": [
        "Go ahead and test the AI Tutor's capabilities with your own questions by running the following cell!"
      ],
      "metadata": {
        "id": "-FkyorZfb04Y"
      }
    },
    {
      "cell_type": "code",
      "source": [
        "interactive_session()"
      ],
      "metadata": {
        "id": "TyK3oL2kbx71"
      },
      "execution_count": null,
      "outputs": []
    }
  ],
  "metadata": {
    "colab": {
      "provenance": []
    },
    "kernelspec": {
      "display_name": "Python 3",
      "name": "python3"
    },
    "language_info": {
      "name": "python"
    }
  },
  "nbformat": 4,
  "nbformat_minor": 0
}